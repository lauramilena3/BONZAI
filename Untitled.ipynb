{
 "cells": [
  {
   "cell_type": "code",
   "execution_count": 3,
   "metadata": {},
   "outputs": [
    {
     "ename": "SyntaxError",
     "evalue": "invalid syntax (<ipython-input-3-a583c1f6012e>, line 1)",
     "output_type": "error",
     "traceback": [
      "\u001b[0;36m  File \u001b[0;32m\"<ipython-input-3-a583c1f6012e>\"\u001b[0;36m, line \u001b[0;32m1\u001b[0m\n\u001b[0;31m    pip instal matplotlib seaborn ipywidgets\u001b[0m\n\u001b[0m             ^\u001b[0m\n\u001b[0;31mSyntaxError\u001b[0m\u001b[0;31m:\u001b[0m invalid syntax\n"
     ]
    }
   ],
   "source": [
    "pip instal matplotlib seaborn ipywidgets\n"
   ]
  },
  {
   "cell_type": "code",
   "execution_count": 2,
   "metadata": {},
   "outputs": [
    {
     "ename": "SyntaxError",
     "evalue": "invalid syntax (<ipython-input-2-abff5756adc0>, line 1)",
     "output_type": "error",
     "traceback": [
      "\u001b[0;36m  File \u001b[0;32m\"<ipython-input-2-abff5756adc0>\"\u001b[0;36m, line \u001b[0;32m1\u001b[0m\n\u001b[0;31m    pip install matplotlib seaborn ipywidgets\u001b[0m\n\u001b[0m              ^\u001b[0m\n\u001b[0;31mSyntaxError\u001b[0m\u001b[0;31m:\u001b[0m invalid syntax\n"
     ]
    }
   ],
   "source": [
    "pip install matplotlib seaborn ipywidgets"
   ]
  },
  {
   "cell_type": "code",
   "execution_count": 4,
   "metadata": {},
   "outputs": [
    {
     "name": "stdout",
     "output_type": "stream",
     "text": [
      "Collecting matplotlib\n",
      "  Downloading matplotlib-3.7.5-cp38-cp38-macosx_10_12_x86_64.whl (7.4 MB)\n",
      "\u001b[K     |████████████████████████████████| 7.4 MB 8.8 MB/s eta 0:00:01\n",
      "\u001b[?25hCollecting seaborn\n",
      "  Downloading seaborn-0.13.2-py3-none-any.whl (294 kB)\n",
      "\u001b[K     |████████████████████████████████| 294 kB 48.1 MB/s eta 0:00:01\n",
      "\u001b[?25hCollecting ipywidgets\n",
      "  Downloading ipywidgets-8.1.5-py3-none-any.whl (139 kB)\n",
      "\u001b[K     |████████████████████████████████| 139 kB 92.8 MB/s eta 0:00:01\n",
      "\u001b[?25hRequirement already satisfied: packaging>=20.0 in /Users/zaidemontesortiz/opt/anaconda3/envs/snakemake-env/lib/python3.8/site-packages (from matplotlib) (24.1)\n",
      "Requirement already satisfied: numpy<2,>=1.20 in /Users/zaidemontesortiz/opt/anaconda3/envs/snakemake-env/lib/python3.8/site-packages (from matplotlib) (1.24.4)\n",
      "Collecting fonttools>=4.22.0\n",
      "  Downloading fonttools-4.54.1-py3-none-any.whl (1.1 MB)\n",
      "\u001b[K     |████████████████████████████████| 1.1 MB 125.7 MB/s eta 0:00:01\n",
      "\u001b[?25hCollecting kiwisolver>=1.0.1\n",
      "  Downloading kiwisolver-1.4.7-cp38-cp38-macosx_10_9_x86_64.whl (65 kB)\n",
      "\u001b[K     |████████████████████████████████| 65 kB 28.0 MB/s  eta 0:00:01\n",
      "\u001b[?25hRequirement already satisfied: pyparsing>=2.3.1 in /Users/zaidemontesortiz/opt/anaconda3/envs/snakemake-env/lib/python3.8/site-packages (from matplotlib) (3.1.4)\n",
      "Collecting contourpy>=1.0.1\n",
      "  Downloading contourpy-1.1.1-cp38-cp38-macosx_10_9_x86_64.whl (247 kB)\n",
      "\u001b[K     |████████████████████████████████| 247 kB 47.1 MB/s eta 0:00:01\n",
      "\u001b[?25hCollecting cycler>=0.10\n",
      "  Downloading cycler-0.12.1-py3-none-any.whl (8.3 kB)\n",
      "Collecting pillow>=6.2.0\n",
      "  Downloading pillow-10.4.0-cp38-cp38-macosx_10_10_x86_64.whl (3.5 MB)\n",
      "\u001b[K     |████████████████████████████████| 3.5 MB 42.1 MB/s eta 0:00:01\n",
      "\u001b[?25hRequirement already satisfied: importlib-resources>=3.2.0; python_version < \"3.10\" in /Users/zaidemontesortiz/opt/anaconda3/envs/snakemake-env/lib/python3.8/site-packages (from matplotlib) (6.4.5)\n",
      "Requirement already satisfied: python-dateutil>=2.7 in /Users/zaidemontesortiz/opt/anaconda3/envs/snakemake-env/lib/python3.8/site-packages (from matplotlib) (2.9.0)\n",
      "Requirement already satisfied: pandas>=1.2 in /Users/zaidemontesortiz/opt/anaconda3/envs/snakemake-env/lib/python3.8/site-packages (from seaborn) (2.0.3)\n",
      "Requirement already satisfied: traitlets>=4.3.1 in /Users/zaidemontesortiz/opt/anaconda3/envs/snakemake-env/lib/python3.8/site-packages (from ipywidgets) (5.14.3)\n",
      "Collecting ipython>=6.1.0\n",
      "  Downloading ipython-8.12.3-py3-none-any.whl (798 kB)\n",
      "\u001b[K     |████████████████████████████████| 798 kB 41.6 MB/s eta 0:00:01\n",
      "\u001b[?25hCollecting jupyterlab-widgets~=3.0.12\n",
      "  Downloading jupyterlab_widgets-3.0.13-py3-none-any.whl (214 kB)\n",
      "\u001b[K     |████████████████████████████████| 214 kB 100.3 MB/s eta 0:00:01\n",
      "\u001b[?25hCollecting widgetsnbextension~=4.0.12\n",
      "  Downloading widgetsnbextension-4.0.13-py3-none-any.whl (2.3 MB)\n",
      "\u001b[K     |████████████████████████████████| 2.3 MB 65.4 MB/s eta 0:00:01\n",
      "\u001b[?25hCollecting comm>=0.1.3\n",
      "  Downloading comm-0.2.2-py3-none-any.whl (7.2 kB)\n",
      "Requirement already satisfied: zipp>=3.1.0; python_version < \"3.10\" in /Users/zaidemontesortiz/opt/anaconda3/envs/snakemake-env/lib/python3.8/site-packages (from importlib-resources>=3.2.0; python_version < \"3.10\"->matplotlib) (3.20.2)\n",
      "Requirement already satisfied: six>=1.5 in /Users/zaidemontesortiz/opt/anaconda3/envs/snakemake-env/lib/python3.8/site-packages (from python-dateutil>=2.7->matplotlib) (1.16.0)\n",
      "Requirement already satisfied: tzdata>=2022.1 in /Users/zaidemontesortiz/opt/anaconda3/envs/snakemake-env/lib/python3.8/site-packages (from pandas>=1.2->seaborn) (2024.2)\n",
      "Requirement already satisfied: pytz>=2020.1 in /Users/zaidemontesortiz/opt/anaconda3/envs/snakemake-env/lib/python3.8/site-packages (from pandas>=1.2->seaborn) (2024.2)\n",
      "Collecting pexpect>4.3; sys_platform != \"win32\"\n",
      "  Downloading pexpect-4.9.0-py2.py3-none-any.whl (63 kB)\n",
      "\u001b[K     |████████████████████████████████| 63 kB 15.7 MB/s eta 0:00:01\n",
      "\u001b[?25hRequirement already satisfied: pygments>=2.4.0 in /Users/zaidemontesortiz/opt/anaconda3/envs/snakemake-env/lib/python3.8/site-packages (from ipython>=6.1.0->ipywidgets) (2.18.0)\n",
      "Collecting stack-data\n",
      "  Downloading stack_data-0.6.3-py3-none-any.whl (24 kB)\n",
      "Collecting matplotlib-inline\n",
      "  Downloading matplotlib_inline-0.1.7-py3-none-any.whl (9.9 kB)\n",
      "Collecting pickleshare\n",
      "  Using cached pickleshare-0.7.5-py2.py3-none-any.whl (6.9 kB)\n",
      "Collecting jedi>=0.16\n",
      "  Downloading jedi-0.19.1-py2.py3-none-any.whl (1.6 MB)\n",
      "\u001b[K     |████████████████████████████████| 1.6 MB 35.3 MB/s eta 0:00:01\n",
      "\u001b[?25hCollecting backcall\n",
      "  Downloading backcall-0.2.0-py2.py3-none-any.whl (11 kB)\n",
      "Collecting prompt-toolkit!=3.0.37,<3.1.0,>=3.0.30\n",
      "  Downloading prompt_toolkit-3.0.48-py3-none-any.whl (386 kB)\n",
      "\u001b[K     |████████████████████████████████| 386 kB 50.0 MB/s eta 0:00:01\n",
      "\u001b[?25hRequirement already satisfied: typing-extensions; python_version < \"3.10\" in /Users/zaidemontesortiz/opt/anaconda3/envs/snakemake-env/lib/python3.8/site-packages (from ipython>=6.1.0->ipywidgets) (4.12.2)\n",
      "Collecting appnope; sys_platform == \"darwin\"\n",
      "  Downloading appnope-0.1.4-py2.py3-none-any.whl (4.3 kB)\n",
      "Collecting decorator\n",
      "  Downloading decorator-5.1.1-py3-none-any.whl (9.1 kB)\n",
      "Collecting ptyprocess>=0.5\n",
      "  Using cached ptyprocess-0.7.0-py2.py3-none-any.whl (13 kB)\n",
      "Collecting asttokens>=2.1.0\n",
      "  Downloading asttokens-2.4.1-py2.py3-none-any.whl (27 kB)\n",
      "Collecting executing>=1.2.0\n",
      "  Downloading executing-2.1.0-py2.py3-none-any.whl (25 kB)\n",
      "Collecting pure-eval\n",
      "  Downloading pure_eval-0.2.3-py3-none-any.whl (11 kB)\n",
      "Collecting parso<0.9.0,>=0.8.3\n",
      "  Downloading parso-0.8.4-py2.py3-none-any.whl (103 kB)\n",
      "\u001b[K     |████████████████████████████████| 103 kB 116.4 MB/s eta 0:00:01\n",
      "\u001b[?25hRequirement already satisfied: wcwidth in /Users/zaidemontesortiz/opt/anaconda3/envs/snakemake-env/lib/python3.8/site-packages (from prompt-toolkit!=3.0.37,<3.1.0,>=3.0.30->ipython>=6.1.0->ipywidgets) (0.2.13)\n",
      "Installing collected packages: fonttools, kiwisolver, contourpy, cycler, pillow, matplotlib, seaborn, ptyprocess, pexpect, asttokens, executing, pure-eval, stack-data, matplotlib-inline, pickleshare, parso, jedi, backcall, prompt-toolkit, appnope, decorator, ipython, jupyterlab-widgets, widgetsnbextension, comm, ipywidgets\n",
      "Successfully installed appnope-0.1.4 asttokens-2.4.1 backcall-0.2.0 comm-0.2.2 contourpy-1.1.1 cycler-0.12.1 decorator-5.1.1 executing-2.1.0 fonttools-4.54.1 ipython-8.12.3 ipywidgets-8.1.5 jedi-0.19.1 jupyterlab-widgets-3.0.13 kiwisolver-1.4.7 matplotlib-3.7.5 matplotlib-inline-0.1.7 parso-0.8.4 pexpect-4.9.0 pickleshare-0.7.5 pillow-10.4.0 prompt-toolkit-3.0.48 ptyprocess-0.7.0 pure-eval-0.2.3 seaborn-0.13.2 stack-data-0.6.3 widgetsnbextension-4.0.13\n"
     ]
    }
   ],
   "source": [
    "!pip install matplotlib seaborn ipywidgets\n"
   ]
  },
  {
   "cell_type": "code",
   "execution_count": 7,
   "metadata": {},
   "outputs": [
    {
     "ename": "ImportError",
     "evalue": "No module named pandas",
     "output_type": "error",
     "traceback": [
      "\u001b[0;31m---------------------------------------------------------------------------\u001b[0m",
      "\u001b[0;31mImportError\u001b[0m                               Traceback (most recent call last)",
      "\u001b[0;32m<ipython-input-7-21a5232ccbf3>\u001b[0m in \u001b[0;36m<module>\u001b[0;34m()\u001b[0m\n\u001b[1;32m      1\u001b[0m \u001b[0;32mimport\u001b[0m \u001b[0mos\u001b[0m\u001b[0;34m\u001b[0m\u001b[0m\n\u001b[1;32m      2\u001b[0m \u001b[0;32mimport\u001b[0m \u001b[0mglob\u001b[0m\u001b[0;34m\u001b[0m\u001b[0m\n\u001b[0;32m----> 3\u001b[0;31m \u001b[0;32mimport\u001b[0m \u001b[0mpandas\u001b[0m \u001b[0;32mas\u001b[0m \u001b[0mpd\u001b[0m\u001b[0;34m\u001b[0m\u001b[0m\n\u001b[0m\u001b[1;32m      4\u001b[0m \u001b[0;32mimport\u001b[0m \u001b[0mmatplotlib\u001b[0m\u001b[0;34m.\u001b[0m\u001b[0mpyplot\u001b[0m \u001b[0;32mas\u001b[0m \u001b[0mplt\u001b[0m\u001b[0;34m\u001b[0m\u001b[0m\n\u001b[1;32m      5\u001b[0m \u001b[0;32mimport\u001b[0m \u001b[0mseaborn\u001b[0m \u001b[0;32mas\u001b[0m \u001b[0msns\u001b[0m\u001b[0;34m\u001b[0m\u001b[0m\n",
      "\u001b[0;31mImportError\u001b[0m: No module named pandas"
     ]
    }
   ],
   "source": [
    "import os\n",
    "import glob\n",
    "import pandas as pd\n",
    "import matplotlib.pyplot as plt\n",
    "import seaborn as sns\n",
    "\n",
    "# Configuración de estilo para seaborn\n",
    "sns.set(style='whitegrid')\n",
    "\n",
    "# Cargar la configuración\n",
    "config = {\n",
    "    'input_dir': 'ruta/a/tu/input_dir',  # Coloca la ruta correcta aquí\n",
    "    'results_dir': 'ruta/a/tu/results_dir',  # Coloca la ruta correcta aquí\n",
    "    'reverse_tag': 'R2',  # Modifica esto si es necesario\n",
    "    'forward_tag': 'R1'\n",
    "}\n",
    "\n",
    "# Ajustes de directorio\n",
    "RAW_DATA_DIR = config['input_dir']\n",
    "RESULTS_DIR = config['results_dir'].rstrip(\"/\")\n",
    "\n",
    "# Obtener muestras\n",
    "if RAW_DATA_DIR:\n",
    "    RAW_DATA_DIR = RAW_DATA_DIR.rstrip(\"/\")\n",
    "    SAMPLES = glob.glob(RAW_DATA_DIR + \"/{sample}_\" + str(config['reverse_tag']) + \".fastq.gz\")\n",
    "    SAMPLES = [os.path.basename(sample).split('_')[0] for sample in SAMPLES]  # Extrae el nombre de la muestra\n",
    "    SAMPLES.sort()\n",
    "else:\n",
    "    SAMPLES = []\n",
    "    \n",
    "print(\"Input Directory:\", RAW_DATA_DIR)\n",
    "print(\"Results Directory:\", RESULTS_DIR)\n",
    "print(\"Sample Names:\", SAMPLES)\n",
    "\n",
    "# Visualizar el número de muestras\n",
    "num_samples = len(SAMPLES)\n",
    "print(\"Number of Samples:\", num_samples)\n",
    "\n",
    "# Gráfico de distribución de muestras (Ejemplo)\n",
    "plt.figure(figsize=(10,6))\n",
    "sns.countplot(x=SAMPLES)\n",
    "plt.title('Distribution of Samples')\n",
    "plt.xticks(rotation=45)\n",
    "plt.xlabel('Samples')\n",
    "plt.ylabel('Counts')\n",
    "plt.show()\n",
    "\n",
    "# Cargar archivos específicos o generar informes según tu estructura\n",
    "# Asegúrate de que las rutas sean correctas\n",
    "# Puedes cargar o visualizar los archivos generados en función de tu flujo de trabajo aquí.\n"
   ]
  },
  {
   "cell_type": "code",
   "execution_count": 6,
   "metadata": {},
   "outputs": [
    {
     "name": "stdout",
     "output_type": "stream",
     "text": [
      "Requirement already satisfied: pandas in /Users/zaidemontesortiz/opt/anaconda3/envs/snakemake-env/lib/python3.8/site-packages (2.0.3)\n",
      "Requirement already satisfied: matplotlib in /Users/zaidemontesortiz/opt/anaconda3/envs/snakemake-env/lib/python3.8/site-packages (3.7.5)\n",
      "Requirement already satisfied: seaborn in /Users/zaidemontesortiz/opt/anaconda3/envs/snakemake-env/lib/python3.8/site-packages (0.13.2)\n",
      "Requirement already satisfied: ipywidgets in /Users/zaidemontesortiz/opt/anaconda3/envs/snakemake-env/lib/python3.8/site-packages (8.1.5)\n",
      "Requirement already satisfied: pytz>=2020.1 in /Users/zaidemontesortiz/opt/anaconda3/envs/snakemake-env/lib/python3.8/site-packages (from pandas) (2024.2)\n",
      "Requirement already satisfied: tzdata>=2022.1 in /Users/zaidemontesortiz/opt/anaconda3/envs/snakemake-env/lib/python3.8/site-packages (from pandas) (2024.2)\n",
      "Requirement already satisfied: python-dateutil>=2.8.2 in /Users/zaidemontesortiz/opt/anaconda3/envs/snakemake-env/lib/python3.8/site-packages (from pandas) (2.9.0)\n",
      "Requirement already satisfied: numpy>=1.20.3; python_version < \"3.10\" in /Users/zaidemontesortiz/opt/anaconda3/envs/snakemake-env/lib/python3.8/site-packages (from pandas) (1.24.4)\n",
      "Requirement already satisfied: pillow>=6.2.0 in /Users/zaidemontesortiz/opt/anaconda3/envs/snakemake-env/lib/python3.8/site-packages (from matplotlib) (10.4.0)\n",
      "Requirement already satisfied: pyparsing>=2.3.1 in /Users/zaidemontesortiz/opt/anaconda3/envs/snakemake-env/lib/python3.8/site-packages (from matplotlib) (3.1.4)\n",
      "Requirement already satisfied: packaging>=20.0 in /Users/zaidemontesortiz/opt/anaconda3/envs/snakemake-env/lib/python3.8/site-packages (from matplotlib) (24.1)\n",
      "Requirement already satisfied: importlib-resources>=3.2.0; python_version < \"3.10\" in /Users/zaidemontesortiz/opt/anaconda3/envs/snakemake-env/lib/python3.8/site-packages (from matplotlib) (6.4.5)\n",
      "Requirement already satisfied: contourpy>=1.0.1 in /Users/zaidemontesortiz/opt/anaconda3/envs/snakemake-env/lib/python3.8/site-packages (from matplotlib) (1.1.1)\n",
      "Requirement already satisfied: kiwisolver>=1.0.1 in /Users/zaidemontesortiz/opt/anaconda3/envs/snakemake-env/lib/python3.8/site-packages (from matplotlib) (1.4.7)\n",
      "Requirement already satisfied: fonttools>=4.22.0 in /Users/zaidemontesortiz/opt/anaconda3/envs/snakemake-env/lib/python3.8/site-packages (from matplotlib) (4.54.1)\n",
      "Requirement already satisfied: cycler>=0.10 in /Users/zaidemontesortiz/opt/anaconda3/envs/snakemake-env/lib/python3.8/site-packages (from matplotlib) (0.12.1)\n",
      "Requirement already satisfied: ipython>=6.1.0 in /Users/zaidemontesortiz/opt/anaconda3/envs/snakemake-env/lib/python3.8/site-packages (from ipywidgets) (8.12.3)\n",
      "Requirement already satisfied: widgetsnbextension~=4.0.12 in /Users/zaidemontesortiz/opt/anaconda3/envs/snakemake-env/lib/python3.8/site-packages (from ipywidgets) (4.0.13)\n",
      "Requirement already satisfied: traitlets>=4.3.1 in /Users/zaidemontesortiz/opt/anaconda3/envs/snakemake-env/lib/python3.8/site-packages (from ipywidgets) (5.14.3)\n",
      "Requirement already satisfied: jupyterlab-widgets~=3.0.12 in /Users/zaidemontesortiz/opt/anaconda3/envs/snakemake-env/lib/python3.8/site-packages (from ipywidgets) (3.0.13)\n",
      "Requirement already satisfied: comm>=0.1.3 in /Users/zaidemontesortiz/opt/anaconda3/envs/snakemake-env/lib/python3.8/site-packages (from ipywidgets) (0.2.2)\n",
      "Requirement already satisfied: six>=1.5 in /Users/zaidemontesortiz/opt/anaconda3/envs/snakemake-env/lib/python3.8/site-packages (from python-dateutil>=2.8.2->pandas) (1.16.0)\n",
      "Requirement already satisfied: zipp>=3.1.0; python_version < \"3.10\" in /Users/zaidemontesortiz/opt/anaconda3/envs/snakemake-env/lib/python3.8/site-packages (from importlib-resources>=3.2.0; python_version < \"3.10\"->matplotlib) (3.20.2)\n",
      "Requirement already satisfied: decorator in /Users/zaidemontesortiz/opt/anaconda3/envs/snakemake-env/lib/python3.8/site-packages (from ipython>=6.1.0->ipywidgets) (5.1.1)\n",
      "Requirement already satisfied: backcall in /Users/zaidemontesortiz/opt/anaconda3/envs/snakemake-env/lib/python3.8/site-packages (from ipython>=6.1.0->ipywidgets) (0.2.0)\n",
      "Requirement already satisfied: jedi>=0.16 in /Users/zaidemontesortiz/opt/anaconda3/envs/snakemake-env/lib/python3.8/site-packages (from ipython>=6.1.0->ipywidgets) (0.19.1)\n",
      "Requirement already satisfied: matplotlib-inline in /Users/zaidemontesortiz/opt/anaconda3/envs/snakemake-env/lib/python3.8/site-packages (from ipython>=6.1.0->ipywidgets) (0.1.7)\n",
      "Requirement already satisfied: prompt-toolkit!=3.0.37,<3.1.0,>=3.0.30 in /Users/zaidemontesortiz/opt/anaconda3/envs/snakemake-env/lib/python3.8/site-packages (from ipython>=6.1.0->ipywidgets) (3.0.48)\n",
      "Requirement already satisfied: stack-data in /Users/zaidemontesortiz/opt/anaconda3/envs/snakemake-env/lib/python3.8/site-packages (from ipython>=6.1.0->ipywidgets) (0.6.3)\n",
      "Requirement already satisfied: pygments>=2.4.0 in /Users/zaidemontesortiz/opt/anaconda3/envs/snakemake-env/lib/python3.8/site-packages (from ipython>=6.1.0->ipywidgets) (2.18.0)\n",
      "Requirement already satisfied: typing-extensions; python_version < \"3.10\" in /Users/zaidemontesortiz/opt/anaconda3/envs/snakemake-env/lib/python3.8/site-packages (from ipython>=6.1.0->ipywidgets) (4.12.2)\n",
      "Requirement already satisfied: appnope; sys_platform == \"darwin\" in /Users/zaidemontesortiz/opt/anaconda3/envs/snakemake-env/lib/python3.8/site-packages (from ipython>=6.1.0->ipywidgets) (0.1.4)\n",
      "Requirement already satisfied: pexpect>4.3; sys_platform != \"win32\" in /Users/zaidemontesortiz/opt/anaconda3/envs/snakemake-env/lib/python3.8/site-packages (from ipython>=6.1.0->ipywidgets) (4.9.0)\n",
      "Requirement already satisfied: pickleshare in /Users/zaidemontesortiz/opt/anaconda3/envs/snakemake-env/lib/python3.8/site-packages (from ipython>=6.1.0->ipywidgets) (0.7.5)\n",
      "Requirement already satisfied: parso<0.9.0,>=0.8.3 in /Users/zaidemontesortiz/opt/anaconda3/envs/snakemake-env/lib/python3.8/site-packages (from jedi>=0.16->ipython>=6.1.0->ipywidgets) (0.8.4)\n",
      "Requirement already satisfied: wcwidth in /Users/zaidemontesortiz/opt/anaconda3/envs/snakemake-env/lib/python3.8/site-packages (from prompt-toolkit!=3.0.37,<3.1.0,>=3.0.30->ipython>=6.1.0->ipywidgets) (0.2.13)\n",
      "Requirement already satisfied: pure-eval in /Users/zaidemontesortiz/opt/anaconda3/envs/snakemake-env/lib/python3.8/site-packages (from stack-data->ipython>=6.1.0->ipywidgets) (0.2.3)\n",
      "Requirement already satisfied: executing>=1.2.0 in /Users/zaidemontesortiz/opt/anaconda3/envs/snakemake-env/lib/python3.8/site-packages (from stack-data->ipython>=6.1.0->ipywidgets) (2.1.0)\n",
      "Requirement already satisfied: asttokens>=2.1.0 in /Users/zaidemontesortiz/opt/anaconda3/envs/snakemake-env/lib/python3.8/site-packages (from stack-data->ipython>=6.1.0->ipywidgets) (2.4.1)\n",
      "Requirement already satisfied: ptyprocess>=0.5 in /Users/zaidemontesortiz/opt/anaconda3/envs/snakemake-env/lib/python3.8/site-packages (from pexpect>4.3; sys_platform != \"win32\"->ipython>=6.1.0->ipywidgets) (0.7.0)\n"
     ]
    }
   ],
   "source": [
    "!pip install pandas matplotlib seaborn ipywidgets\n"
   ]
  },
  {
   "cell_type": "code",
   "execution_count": 1,
   "metadata": {},
   "outputs": [
    {
     "ename": "ImportError",
     "evalue": "No module named pandas",
     "output_type": "error",
     "traceback": [
      "\u001b[0;31m---------------------------------------------------------------------------\u001b[0m",
      "\u001b[0;31mImportError\u001b[0m                               Traceback (most recent call last)",
      "\u001b[0;32m<ipython-input-1-ed806232820c>\u001b[0m in \u001b[0;36m<module>\u001b[0;34m()\u001b[0m\n\u001b[0;32m----> 1\u001b[0;31m \u001b[0;32mimport\u001b[0m \u001b[0mpandas\u001b[0m \u001b[0;32mas\u001b[0m \u001b[0mpd\u001b[0m\u001b[0;34m\u001b[0m\u001b[0m\n\u001b[0m\u001b[1;32m      2\u001b[0m \u001b[0;32mimport\u001b[0m \u001b[0mmatplotlib\u001b[0m\u001b[0;34m.\u001b[0m\u001b[0mpyplot\u001b[0m \u001b[0;32mas\u001b[0m \u001b[0mplt\u001b[0m\u001b[0;34m\u001b[0m\u001b[0m\n\u001b[1;32m      3\u001b[0m \u001b[0;32mimport\u001b[0m \u001b[0mseaborn\u001b[0m \u001b[0;32mas\u001b[0m \u001b[0msns\u001b[0m\u001b[0;34m\u001b[0m\u001b[0m\n",
      "\u001b[0;31mImportError\u001b[0m: No module named pandas"
     ]
    }
   ],
   "source": [
    "import pandas as pd\n",
    "import matplotlib.pyplot as plt\n",
    "import seaborn as sns\n"
   ]
  },
  {
   "cell_type": "code",
   "execution_count": null,
   "metadata": {},
   "outputs": [],
   "source": []
  }
 ],
 "metadata": {
  "kernelspec": {
   "display_name": "Python 2",
   "language": "python",
   "name": "python2"
  },
  "language_info": {
   "codemirror_mode": {
    "name": "ipython",
    "version": 2
   },
   "file_extension": ".py",
   "mimetype": "text/x-python",
   "name": "python",
   "nbconvert_exporter": "python",
   "pygments_lexer": "ipython2",
   "version": "2.7.15"
  }
 },
 "nbformat": 4,
 "nbformat_minor": 2
}
